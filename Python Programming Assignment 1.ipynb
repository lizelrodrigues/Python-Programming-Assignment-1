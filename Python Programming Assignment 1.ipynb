{
 "cells": [
  {
   "cell_type": "code",
   "execution_count": null,
   "id": "8029adc2",
   "metadata": {},
   "outputs": [],
   "source": [
    "#Python Programming Assignment 1"
   ]
  },
  {
   "cell_type": "markdown",
   "id": "6d2312d8",
   "metadata": {},
   "source": [
    "1.Write a Python program to print \"Hello Python\"?"
   ]
  },
  {
   "cell_type": "code",
   "execution_count": 1,
   "id": "3f6392f7",
   "metadata": {},
   "outputs": [
    {
     "name": "stdout",
     "output_type": "stream",
     "text": [
      "Hello Python\n"
     ]
    }
   ],
   "source": [
    "print(\"Hello Python\")"
   ]
  },
  {
   "cell_type": "markdown",
   "id": "0949433b",
   "metadata": {},
   "source": [
    "2.Write a Python program to do arithmetical operations addition and division.?"
   ]
  },
  {
   "cell_type": "code",
   "execution_count": 2,
   "id": "52bbb944",
   "metadata": {},
   "outputs": [
    {
     "name": "stdout",
     "output_type": "stream",
     "text": [
      "Enter a number: 2\n",
      "Enter another number: 8\n",
      "The addition of the two numbers is:  10\n",
      "The division of 2 divided by 8 is 0.25\n"
     ]
    }
   ],
   "source": [
    "a=int(input(\"Enter a number: \"))\n",
    "b=int(input(\"Enter another number: \"))\n",
    "print(\"The addition of the two numbers is: \",a+b)\n",
    "print(\"The division of\",a,\"divided by\", b , \"is\",a/b)"
   ]
  },
  {
   "cell_type": "markdown",
   "id": "f96c4124",
   "metadata": {},
   "source": [
    "3.Write a Python program to find the area of a triangle?"
   ]
  },
  {
   "cell_type": "code",
   "execution_count": 1,
   "id": "f8bb2b32",
   "metadata": {},
   "outputs": [
    {
     "name": "stdout",
     "output_type": "stream",
     "text": [
      "enter base of triangle: 2\n",
      "enter height of triangle: 4\n",
      "Area of triangle 4.0\n"
     ]
    }
   ],
   "source": [
    "base=int(input(\"enter base of triangle: \"))\n",
    "height=int(input(\"enter height of triangle: \"))\n",
    "A=0.5*base*height\n",
    "print(\"Area of triangle\",A)"
   ]
  },
  {
   "cell_type": "markdown",
   "id": "07a6b4da",
   "metadata": {},
   "source": [
    "4.Write a Python program to swap two variables?"
   ]
  },
  {
   "cell_type": "code",
   "execution_count": 2,
   "id": "18f44903",
   "metadata": {},
   "outputs": [
    {
     "name": "stdout",
     "output_type": "stream",
     "text": [
      "Enter a variable A: 3\n",
      "Enter a variable B: 5\n",
      "The swapped value of A is  5\n",
      "The swapped value of B is  3\n"
     ]
    }
   ],
   "source": [
    "A=int(input(\"Enter a variable A: \"))\n",
    "B=int(input(\"Enter a variable B: \"))\n",
    "temp=B\n",
    "B=A\n",
    "A=temp\n",
    "print(\"The swapped value of A is \", A)\n",
    "print(\"The swapped value of B is \", B)"
   ]
  },
  {
   "cell_type": "markdown",
   "id": "08e5dd5b",
   "metadata": {},
   "source": [
    "5.Write a Python program to generate a random number?"
   ]
  },
  {
   "cell_type": "code",
   "execution_count": 12,
   "id": "9c29483b",
   "metadata": {},
   "outputs": [
    {
     "data": {
      "text/plain": [
       "1"
      ]
     },
     "execution_count": 12,
     "metadata": {},
     "output_type": "execute_result"
    }
   ],
   "source": [
    "import random\n",
    "a = random.randint(0,10)  # for nos. between 1 to 10\n",
    "a"
   ]
  }
 ],
 "metadata": {
  "kernelspec": {
   "display_name": "Python 3 (ipykernel)",
   "language": "python",
   "name": "python3"
  },
  "language_info": {
   "codemirror_mode": {
    "name": "ipython",
    "version": 3
   },
   "file_extension": ".py",
   "mimetype": "text/x-python",
   "name": "python",
   "nbconvert_exporter": "python",
   "pygments_lexer": "ipython3",
   "version": "3.9.7"
  }
 },
 "nbformat": 4,
 "nbformat_minor": 5
}
